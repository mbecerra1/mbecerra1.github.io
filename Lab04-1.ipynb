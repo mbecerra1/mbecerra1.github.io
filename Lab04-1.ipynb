{
 "cells": [
  {
   "cell_type": "markdown",
   "metadata": {},
   "source": [
    "<a href=\"https://colab.research.google.com/github/gisynw/ssj-30262/blob/main/docs/Labs/Lab04.ipynb\" target=\"_blank\">\n",
    "  <img src=\"https://colab.research.google.com/assets/colab-badge.svg\" alt=\"Open in Colab\" style=\"height: 30px;\"/>\n",
    "</a>\n",
    "&nbsp &nbsp\n",
    "<a href=\"./Lab04.ipynb\" target=\"_blank\"> \n",
    "  <img src=\"https://img.icons8.com/?size=100&id=108635&format=png&color=000000\" alt=\"Download\" style=\"height: 40px;\"/>\n",
    " </a>"
   ]
  },
  {
   "cell_type": "markdown",
   "metadata": {},
   "source": [
    "<h3 style=\"text-align: center;\">Lab 04: JavaScript</h3>\n",
    "\n",
    "- This lab accomplish one goals. \n",
    "  - Use your newly acquired JS skills to add dynamic effect to the element\n",
    "\n",
    "- Save the URL in .ipynb file, ensuring that the link is **clikable**. Then export the file as HTML or PDF file. Submit the HTML or PEF file to Canvas by **midnight (11:29 PM) on September 29**.\n",
    "\n",
    "- This lab is worth a total of **65 points** and contributes **6.5%** toward the final grade."
   ]
  },
  {
   "cell_type": "markdown",
   "metadata": {},
   "source": [
    "### 1. Create a button (25 points)\n",
    "In exercises (1, 2, 3, and 4), you learned about four different dynamic effects that can be applied to buttons using JavaScript.\n",
    "\n",
    "Your Task:\n",
    "Create a button on your webpage and apply a dynamic effect to it using JavaScript. You may reference the code demonstrated in class, but be sure to modify it and make it your own. Explore creative ways to enhance the button's interactivity and style!\n",
    "\n",
    "Make a screenshot of your code and attach below\n",
    "\n",
    "*In this example I added a code for adding a button for the conferences * \n",
    "\n",
    "<img src=\"Lab3_image\\Conference_lab4.png\" alt=\"pic4\">\n",
    "<img src=\"Lab3_image\\Conference2_lab4.png\" alt=\"pic5\">"
   ]
  },
  {
   "cell_type": "markdown",
   "metadata": {},
   "source": [
    "### 2. Dynamic effect for close button (35 points)\n",
    "For Step 4 in Exercise 6, we've created a close button but haven't yet added functionality to close the pop-up window. Please add a dynamic effect to the button so that when the user clicks it, the pop-up window will close.\n",
    "\n",
    "Hints:\n",
    "\n",
    "Create a `const` variable called close_button and use `getElementById` or `getElementsByClassName` to reference the button.\n",
    "\n",
    "Use `.onclick` on the close_button to handle the click event.\n",
    "\n",
    "Refer to the code example showing how to change the `display` property in the `style` of an element.\n",
    "\n",
    "Make a screenshot of your code and attach below"
   ]
  },
  {
   "cell_type": "markdown",
   "metadata": {},
   "source": [
    "### 3. URL of your personal website (5 points)"
   ]
  }
 ],
 "metadata": {
  "language_info": {
   "name": "python"
  }
 },
 "nbformat": 4,
 "nbformat_minor": 2
}
