{
 "cells": [
  {
   "cell_type": "markdown",
   "metadata": {},
   "source": [
    "<a href=\"https://colab.research.google.com/github/gisynw/ssj-30262/blob/main/docs/Labs/Lab03.ipynb\" target=\"_blank\">\n",
    "  <img src=\"https://colab.research.google.com/assets/colab-badge.svg\" alt=\"Open in Colab\" style=\"height: 30px;\"/>\n",
    "</a>\n",
    "&nbsp &nbsp\n",
    "<a href=\"./Lab03.ipynb\" target=\"_blank\"> \n",
    "  <img src=\"https://img.icons8.com/?size=100&id=108635&format=png&color=000000\" alt=\"Download\" style=\"height: 40px;\"/>\n",
    " </a>"
   ]
  },
  {
   "cell_type": "markdown",
   "metadata": {},
   "source": [
    "<h3 style=\"text-align: center;\">Lab 03: CSS</h3>\n",
    "\n",
    "- This lab accomplish two goals. \n",
    "  - Put your newly acquired CSS skills to use\n",
    "\n",
    "- Save the URL in .ipynb file, ensuring that the link is **clikable**. Then export the file as HTML or PDF file. Submit the HTML or PEF file to Canvas by **midnight (11:29 PM) on September 22**.\n",
    "\n",
    "- This lab is worth a total of **65 points** and contributes **6.5%** toward the final grade."
   ]
  },
  {
   "cell_type": "markdown",
   "metadata": {},
   "source": [
    "1. Show inline CSS styling  (15 points)\n",
    "\n",
    "*Example of inline CSS styling* \n",
    "\n",
    "<img src=\"Lab3_image/inline style.png\" alt=\"pic1\">\n"
   ]
  },
  {
   "cell_type": "markdown",
   "metadata": {},
   "source": [
    "2. Show internal CSS styling (15 points)\n",
    "\n",
    "*Example of internal CSS styling*\n",
    "\n",
    "<img src=\"Lab3_image\\internal style.png\" alt=\"pic2\">\n"
   ]
  },
  {
   "cell_type": "markdown",
   "metadata": {},
   "source": [
    "3. Show external CSS styling (15 points)\n",
    "\n",
    "<img src=\"Lab3_image\\external style.png\" alt=\"pic3\">\n",
    "\n",
    "<img src=\"Lab3_image\\external2.png\" alt=\"pic5\">\n",
    "\n",
    "\n",
    "\n"
   ]
  },
  {
   "cell_type": "markdown",
   "metadata": {},
   "source": [
    "4. Show descendant selectors (15 points)\n",
    "\n",
    "<img src=\"Lab3_image\\Descendant selector.png\" alt=\"pic4\">\n"
   ]
  },
  {
   "cell_type": "markdown",
   "metadata": {},
   "source": [
    "5. URL of your personal website (5 points)\n",
    "\n",
    "[Personal website](https://mbecerra1.github.io/)\n",
    "\n"
   ]
  }
 ],
 "metadata": {
  "kernelspec": {
   "display_name": "base",
   "language": "python",
   "name": "python3"
  },
  "language_info": {
   "codemirror_mode": {
    "name": "ipython",
    "version": 3
   },
   "file_extension": ".py",
   "mimetype": "text/x-python",
   "name": "python",
   "nbconvert_exporter": "python",
   "pygments_lexer": "ipython3",
   "version": "3.12.4"
  }
 },
 "nbformat": 4,
 "nbformat_minor": 2
}
